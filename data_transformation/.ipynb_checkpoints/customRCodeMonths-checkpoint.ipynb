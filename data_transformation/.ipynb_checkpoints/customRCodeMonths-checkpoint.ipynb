{
 "cells": [
  {
   "cell_type": "code",
   "execution_count": null,
   "metadata": {
    "scrolled": false
   },
   "outputs": [
    {
     "name": "stdout",
     "output_type": "stream",
     "text": [
      "[1000 2100 4000]\n"
     ]
    }
   ],
   "source": [
    "import numpy as np\n",
    "import pandas as pd\n",
    "\n",
    "\n",
    "\n",
    "#################################             FUNCTIONNALITY             ########################################\n",
    "\n",
    "\n",
    "# this programs reads a csv file and computes the SUM of TOTAL_ITEMS_AMOUNT in function of CUSTOM_REGIME_CODE and \n",
    "\n",
    "# the year\n",
    "\n",
    "\n",
    "#################################################################################################################\n",
    "\n",
    "\n",
    "\n",
    "# Choose your year\n",
    "\n",
    "yearChosen = 2017\n",
    "\n",
    "\n",
    "\n",
    "df = pd.read_csv('NewTBF110.csv')\n",
    "\n",
    "\n",
    "df2 = df[df['year'] == yearChosen].groupby(['month', 'SENDER_SITE_LOC_ID','CUSTOMS_REGIME_CODE']).agg({'ITEMS_TOTAL_AMOUNT': 'sum'}).reset_index()\n",
    "\n",
    "\n",
    "\n",
    "# Remove the duplicates for sender_id\n",
    "\n",
    "senderId = pd.unique(df2['SENDER_SITE_LOC_ID'].values)\n",
    "\n",
    "\n",
    "# set up the list \n",
    "\n",
    "dateByMonth = [t for t in range(1,13)]\n",
    "\n",
    "customRCode = pd.unique(df2['CUSTOMS_REGIME_CODE'].values)\n",
    "\n",
    "\n",
    "print(customRCode)\n",
    "\n",
    "# Set up the table length\n",
    "\n",
    "lenDateByMonth = len(dateByMonth)\n",
    "lenSenderId = len(senderId)\n",
    "lenCustomRCode = len(customRCode)\n",
    "\n",
    "\n",
    "# This loop is used to create some rows for sender_id which did not have all the dates and all the custom_regime_code\n",
    "i =0\n",
    "while i < lenSenderId:\n",
    "    for j in range(lenDateByMonth):\n",
    "        for k in range(lenCustomRCode):\n",
    "            if i+j+k < lenSenderId + lenDateByMonth + lenCustomRCode:\n",
    "                dftemp = df2.loc[df2['SENDER_SITE_LOC_ID'].isin([senderId[i]]) & df2['month'].isin([dateByMonth[j]]) & df2['CUSTOMS_REGIME_CODE'].isin([customRCode[k]])]\n",
    "                #print(senderId[i])\n",
    "                #print(dateByYear[j])\n",
    "                if (dftemp.empty == True):\n",
    "                    df3 = pd.DataFrame(np.array([[dateByMonth[j],senderId[i],customRCode[k]]]), columns=['month','SENDER_SITE_LOC_ID','CUSTOMS_REGIME_CODE'])\n",
    "                    df2 = df2.append(df3, ignore_index=True)\n",
    "\n",
    "                else :\n",
    "                    pass\n",
    "\n",
    "\n",
    "df2.drop_duplicates(inplace=True)\n",
    "\n",
    "df2 = df2.fillna(0)\n",
    "\n",
    "print(df2)\n",
    "\n",
    "df2.to_csv('month.csv')\n",
    "\n"
   ]
  },
  {
   "cell_type": "code",
   "execution_count": null,
   "metadata": {},
   "outputs": [],
   "source": []
  },
  {
   "cell_type": "code",
   "execution_count": null,
   "metadata": {},
   "outputs": [],
   "source": []
  }
 ],
 "metadata": {
  "kernelspec": {
   "display_name": "Python 3",
   "language": "python",
   "name": "python3"
  },
  "language_info": {
   "codemirror_mode": {
    "name": "ipython",
    "version": 3
   },
   "file_extension": ".py",
   "mimetype": "text/x-python",
   "name": "python",
   "nbconvert_exporter": "python",
   "pygments_lexer": "ipython3",
   "version": "3.6.4"
  }
 },
 "nbformat": 4,
 "nbformat_minor": 2
}
